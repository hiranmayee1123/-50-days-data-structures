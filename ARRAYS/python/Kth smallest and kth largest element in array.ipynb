{
 "cells": [
  {
   "cell_type": "markdown",
   "metadata": {},
   "source": [
    "# Question:\n",
    "## K’th Smallest/Largest Element in Unsorted Array | Set 1\n",
    "Given an array and a number k where k is smaller than size of array, we need to find the k’th smallest element in the given array. It is given that ll array elements are distinct.\n",
    "Examples:\n",
    "\n",
    "Input: arr[] = {7, 10, 4, 3, 20, 15}\n",
    "k = 3\n",
    "Output: 7\n",
    "\n",
    "Input: arr[] = {7, 10, 4, 3, 20, 15}\n",
    "k = 4\n",
    "Output: 10"
   ]
  },
  {
   "cell_type": "code",
   "execution_count": 1,
   "metadata": {},
   "outputs": [
    {
     "name": "stdout",
     "output_type": "stream",
     "text": [
      "Enter values of arr: 4 2 5 7 20 21 3 \n"
     ]
    }
   ],
   "source": [
    "arr=[int(i) for i in input(\"Enter values of arr: \").split()]"
   ]
  },
  {
   "cell_type": "code",
   "execution_count": 2,
   "metadata": {},
   "outputs": [
    {
     "name": "stdout",
     "output_type": "stream",
     "text": [
      "Enter value of k: 3\n"
     ]
    }
   ],
   "source": [
    "k=int(input(\"Enter value of k: \"))"
   ]
  },
  {
   "cell_type": "code",
   "execution_count": 3,
   "metadata": {},
   "outputs": [
    {
     "name": "stdout",
     "output_type": "stream",
     "text": [
      "kth smallest element in the arr:  4\n",
      "kth largest element in the arr:  7\n"
     ]
    }
   ],
   "source": [
    "arr.sort()\n",
    "print(\"kth smallest element in the arr: \",arr[k-1])\n",
    "arr.reverse()\n",
    "print(\"kth largest element in the arr: \",arr[k-1])\n"
   ]
  },
  {
   "cell_type": "markdown",
   "metadata": {},
   "source": [
    "## Second largest element in [4,2,5,20,21,3] is 7\n",
    "## Second smallest element in [4,2,5,20,21,3] is 4"
   ]
  },
  {
   "cell_type": "code",
   "execution_count": null,
   "metadata": {},
   "outputs": [],
   "source": []
  }
 ],
 "metadata": {
  "kernelspec": {
   "display_name": "Python 3",
   "language": "python",
   "name": "python3"
  },
  "language_info": {
   "codemirror_mode": {
    "name": "ipython",
    "version": 3
   },
   "file_extension": ".py",
   "mimetype": "text/x-python",
   "name": "python",
   "nbconvert_exporter": "python",
   "pygments_lexer": "ipython3",
   "version": "3.7.6"
  }
 },
 "nbformat": 4,
 "nbformat_minor": 4
}
