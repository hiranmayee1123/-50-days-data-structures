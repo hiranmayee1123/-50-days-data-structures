{
 "cells": [
  {
   "cell_type": "markdown",
   "metadata": {},
   "source": [
    "# Question:\n",
    "## Move all negative numbers to beginning and positive to end with constant extra space\n",
    "An array contains both positive and negative numbers in random order. Rearrange the array elements so that all negative numbers appear before all positive numbers.\n",
    "Examples : \n",
    "\n",
    "Input: -12, 11, -13, -5, 6, -7, 5, -3, -6\n",
    "Output: -12 -13 -5 -7 -3 -6 11 6 5"
   ]
  },
  {
   "cell_type": "code",
   "execution_count": 1,
   "metadata": {},
   "outputs": [
    {
     "name": "stdout",
     "output_type": "stream",
     "text": [
      "Enter values of arr: -9 7 8 -3 9 -5 -2\n"
     ]
    }
   ],
   "source": [
    "#Taking input\n",
    "arr=[int(i) for i in input(\"Enter values of arr: \").split()]\n"
   ]
  },
  {
   "cell_type": "code",
   "execution_count": 3,
   "metadata": {},
   "outputs": [
    {
     "name": "stdout",
     "output_type": "stream",
     "text": [
      "[-9, -3, -5, -2, 9, 8, 7]\n"
     ]
    }
   ],
   "source": [
    "#printing all the negative numbers to begining and positive to end\n",
    "j=0\n",
    "for i in range(0,len(arr)):\n",
    "    if(arr[i]<0):\n",
    "        temp=arr[i]\n",
    "        arr[i]=arr[j]\n",
    "        arr[j]=temp\n",
    "        j=j+1\n",
    "print(arr)        \n"
   ]
  },
  {
   "cell_type": "code",
   "execution_count": null,
   "metadata": {},
   "outputs": [],
   "source": []
  }
 ],
 "metadata": {
  "kernelspec": {
   "display_name": "Python 3",
   "language": "python",
   "name": "python3"
  },
  "language_info": {
   "codemirror_mode": {
    "name": "ipython",
    "version": 3
   },
   "file_extension": ".py",
   "mimetype": "text/x-python",
   "name": "python",
   "nbconvert_exporter": "python",
   "pygments_lexer": "ipython3",
   "version": "3.7.6"
  }
 },
 "nbformat": 4,
 "nbformat_minor": 4
}
