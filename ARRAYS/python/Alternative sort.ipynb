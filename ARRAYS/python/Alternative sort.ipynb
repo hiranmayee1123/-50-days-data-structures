{
 "cells": [
  {
   "cell_type": "code",
   "execution_count": 1,
   "metadata": {},
   "outputs": [
    {
     "name": "stdout",
     "output_type": "stream",
     "text": [
      "12 1 10 4 7 6 "
     ]
    }
   ],
   "source": [
    "def alternateSort(arr, n): \n",
    "  \n",
    "    # Sorting the array \n",
    "    arr.sort()  \n",
    "  \n",
    "    # Printing the last element of array  \n",
    "    # first and then first element and then  \n",
    "    # second last element and then second  \n",
    "    # element and so on. \n",
    "    i = 0\n",
    "    j = n-1\n",
    "      \n",
    "    while (i < j):  \n",
    "      \n",
    "        print(arr[j], end =\" \") \n",
    "        j-= 1\n",
    "        print(arr[i], end =\" \") \n",
    "        i+= 1\n",
    "  \n",
    "    # If the total element in array is odd  \n",
    "    # then print the last middle element. \n",
    "    if (n % 2 != 0): \n",
    "        print(arr[i])  \n",
    "  \n",
    "  \n",
    "# Driver code \n",
    "arr = [1, 12, 4, 6, 7, 10]  \n",
    "n = len(arr) \n",
    "  \n",
    "alternateSort(arr, n)  \n"
   ]
  },
  {
   "cell_type": "code",
   "execution_count": null,
   "metadata": {},
   "outputs": [],
   "source": []
  }
 ],
 "metadata": {
  "kernelspec": {
   "display_name": "Python 3",
   "language": "python",
   "name": "python3"
  },
  "language_info": {
   "codemirror_mode": {
    "name": "ipython",
    "version": 3
   },
   "file_extension": ".py",
   "mimetype": "text/x-python",
   "name": "python",
   "nbconvert_exporter": "python",
   "pygments_lexer": "ipython3",
   "version": "3.7.6"
  }
 },
 "nbformat": 4,
 "nbformat_minor": 4
}
