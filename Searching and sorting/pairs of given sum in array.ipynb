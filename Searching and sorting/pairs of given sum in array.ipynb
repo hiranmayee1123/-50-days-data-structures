{
 "cells": [
  {
   "cell_type": "markdown",
   "metadata": {},
   "source": [
    "# Given two unsorted arrays, find all pairs whose sum is x\n",
    "Given two unsorted arrays of distinct elements, the task is to find all pairs from both arrays whose sum is equal to X.\n",
    "\n",
    "Examples:\n",
    "\n",
    "Input :  arr1[] = {-1, -2, 4, -6, 5, 7}\n",
    "         arr2[] = {6, 3, 4, 0}  \n",
    "         x = 8\n",
    "Output : 4 4\n",
    "         5 3\n",
    "\n",
    "Input : arr1[] = {1, 2, 4, 5, 7} \n",
    "        arr2[] = {5, 6, 3, 4, 8}  \n",
    "        x = 9\n",
    "Output : 1 8\n",
    "         4 5\n",
    "         5 4"
   ]
  },
  {
   "cell_type": "code",
   "execution_count": 1,
   "metadata": {},
   "outputs": [
    {
     "name": "stdout",
     "output_type": "stream",
     "text": [
      "Enter elements of arr: 2 1 3 4 5 6 7 8 \n",
      "Enter elements of arr1: 3 2 1 4 5 4 \n"
     ]
    }
   ],
   "source": [
    "arr=[int(i) for i in input(\"Enter elements of arr: \").split()]\n",
    "arr1=[int(j) for j in input(\"Enter elements of arr1: \").split()]"
   ]
  },
  {
   "cell_type": "code",
   "execution_count": 2,
   "metadata": {},
   "outputs": [
    {
     "name": "stdout",
     "output_type": "stream",
     "text": [
      "5 5\n",
      "6 4\n",
      "6 4\n",
      "7 3\n",
      "8 2\n"
     ]
    }
   ],
   "source": [
    "sum=10\n",
    "for i in range(0,len(arr)):\n",
    "    for j in range(0,len(arr1)):\n",
    "        if(arr[i]+arr1[j]==sum):\n",
    "            print(arr[i],arr1[j])\n",
    "            "
   ]
  },
  {
   "cell_type": "code",
   "execution_count": null,
   "metadata": {},
   "outputs": [],
   "source": []
  }
 ],
 "metadata": {
  "kernelspec": {
   "display_name": "Python 3",
   "language": "python",
   "name": "python3"
  },
  "language_info": {
   "codemirror_mode": {
    "name": "ipython",
    "version": 3
   },
   "file_extension": ".py",
   "mimetype": "text/x-python",
   "name": "python",
   "nbconvert_exporter": "python",
   "pygments_lexer": "ipython3",
   "version": "3.7.6"
  }
 },
 "nbformat": 4,
 "nbformat_minor": 4
}
