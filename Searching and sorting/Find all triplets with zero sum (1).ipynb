{
 "cells": [
  {
   "cell_type": "markdown",
   "metadata": {},
   "source": [
    "# Find all triplets with zero sum\n",
    "Given an array of distinct elements. The task is to find triplets in the array whose sum is zero.\n",
    "\n",
    "Examples : \n",
    "\n",
    "Input : arr[] = {0, -1, 2, -3, 1}\n",
    "Output : (0 -1 1), (2 -3 1)\n",
    "\n",
    "Explanation : The triplets with zero sum are\n",
    "0 + -1 + 1 = 0 and 2 + -3 + 1 = 0  \n",
    "\n",
    "Input : arr[] = {1, -2, 1, 0, 5}\n",
    "Output : 1 -2  1\n",
    "Explanation : The triplets with zero sum is\n",
    "1 + -2 + 1 = 0   "
   ]
  },
  {
   "cell_type": "code",
   "execution_count": 1,
   "metadata": {},
   "outputs": [
    {
     "name": "stdout",
     "output_type": "stream",
     "text": [
      "Enter values of arr: -2 1 0 1 -1\n"
     ]
    }
   ],
   "source": [
    "arr=[int(i) for i in input(\"Enter values of arr: \").split()]"
   ]
  },
  {
   "cell_type": "code",
   "execution_count": 2,
   "metadata": {},
   "outputs": [
    {
     "name": "stdout",
     "output_type": "stream",
     "text": [
      "-2 1 1\n",
      "1 0 -1\n",
      "0 1 -1\n"
     ]
    }
   ],
   "source": [
    "found=False\n",
    "for i in range(0,len(arr)-2):\n",
    "    for j in range(i+1,len(arr)-1):\n",
    "        for k in range(j+1,len(arr)):\n",
    "            if(arr[i]+arr[j]+arr[k]==0):\n",
    "                \n",
    "                print(arr[i],arr[j],arr[k])\n",
    "                found=True\n",
    "if(found)==False:\n",
    "    print(not exist)\n",
    "                \n",
    "                "
   ]
  },
  {
   "cell_type": "code",
   "execution_count": null,
   "metadata": {},
   "outputs": [],
   "source": []
  }
 ],
 "metadata": {
  "kernelspec": {
   "display_name": "Python 3",
   "language": "python",
   "name": "python3"
  },
  "language_info": {
   "codemirror_mode": {
    "name": "ipython",
    "version": 3
   },
   "file_extension": ".py",
   "mimetype": "text/x-python",
   "name": "python",
   "nbconvert_exporter": "python",
   "pygments_lexer": "ipython3",
   "version": "3.7.6"
  }
 },
 "nbformat": 4,
 "nbformat_minor": 4
}
