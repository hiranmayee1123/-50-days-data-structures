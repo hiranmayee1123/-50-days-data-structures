{
 "cells": [
  {
   "cell_type": "markdown",
   "metadata": {},
   "source": [
    "# Find a Fixed Point (Value equal to index) in a given array\n",
    "Difficulty Level : Easy\n",
    " Last Updated : 04 Sep, 2019\n",
    "Given an array of n distinct integers sorted in ascending order, write a function that returns a Fixed Point in the array, if there is any Fixed Point present in array, else returns -1. Fixed Point in an array is an index i such that arr[i] is equal to i. Note that integers in array can be negative.\n",
    "\n",
    "Examples:\n",
    "\n",
    "  Input: arr[] = {-10, -5, 0, 3, 7}\n",
    "  Output: 3  // arr[3] == 3 \n",
    "\n",
    "  Input: arr[] = {0, 2, 5, 8, 17}\n",
    "  Output: 0  // arr[0] == 0 \n",
    "\n",
    "\n",
    "  Input: arr[] = {-10, -5, 3, 4, 7, 9}\n",
    "  Output: -1  // No Fixed Point"
   ]
  },
  {
   "cell_type": "code",
   "execution_count": 1,
   "metadata": {},
   "outputs": [
    {
     "name": "stdout",
     "output_type": "stream",
     "text": [
      "Fixed Point is 3\n"
     ]
    }
   ],
   "source": [
    "def binarySearch(arr, low, high): \n",
    "    if high >= low: \n",
    "        mid = (low + high)//2\n",
    "      \n",
    "    if mid is arr[mid]: \n",
    "        return mid \n",
    "      \n",
    "    if mid > arr[mid]: \n",
    "        return binarySearch(arr, (mid + 1), high) \n",
    "    else: \n",
    "        return binarySearch(arr, low, (mid -1)) \n",
    "      \n",
    "    # Return -1 if there is no Fixed Point \n",
    "    return -1\n",
    "arr = [-10, -1, 0, 3, 10, 11, 30, 50, 100] \n",
    "n = len(arr) \n",
    "print(\"Fixed Point is \" + str(binarySearch(arr, 0, n-1))) "
   ]
  },
  {
   "cell_type": "code",
   "execution_count": null,
   "metadata": {},
   "outputs": [],
   "source": []
  },
  {
   "cell_type": "code",
   "execution_count": null,
   "metadata": {},
   "outputs": [],
   "source": []
  }
 ],
 "metadata": {
  "kernelspec": {
   "display_name": "Python 3",
   "language": "python",
   "name": "python3"
  },
  "language_info": {
   "codemirror_mode": {
    "name": "ipython",
    "version": 3
   },
   "file_extension": ".py",
   "mimetype": "text/x-python",
   "name": "python",
   "nbconvert_exporter": "python",
   "pygments_lexer": "ipython3",
   "version": "3.7.6"
  }
 },
 "nbformat": 4,
 "nbformat_minor": 4
}
