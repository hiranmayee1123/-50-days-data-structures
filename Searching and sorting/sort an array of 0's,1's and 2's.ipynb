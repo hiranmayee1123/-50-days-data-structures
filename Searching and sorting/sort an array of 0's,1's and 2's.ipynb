{
 "cells": [
  {
   "cell_type": "code",
   "execution_count": 1,
   "metadata": {},
   "outputs": [
    {
     "name": "stdout",
     "output_type": "stream",
     "text": [
      "Enter 0's,1's and 2's: 1 2 1 0 0 0 1 2 2 0\n"
     ]
    }
   ],
   "source": [
    "arr=[int(i) for i in input(\"Enter 0's,1's and 2's: \").split()]"
   ]
  },
  {
   "cell_type": "code",
   "execution_count": 2,
   "metadata": {},
   "outputs": [],
   "source": [
    "low=0\n",
    "high=len(arr)-1\n",
    "mid=0"
   ]
  },
  {
   "cell_type": "code",
   "execution_count": 3,
   "metadata": {},
   "outputs": [
    {
     "name": "stdout",
     "output_type": "stream",
     "text": [
      "[0, 0, 0, 0, 1, 1, 1, 2, 2, 2]\n"
     ]
    }
   ],
   "source": [
    "while mid <= high: \n",
    "        if arr[mid] == 0: \n",
    "            arr[low], arr[mid] = arr[mid], arr[low] \n",
    "            low = low + 1\n",
    "            mid = mid + 1\n",
    "        elif arr[mid] == 1: \n",
    "            mid = mid + 1\n",
    "        else: \n",
    "            arr[mid], arr[high] = arr[high], arr[mid]  \n",
    "            high = high - 1\n",
    "print(arr) "
   ]
  },
  {
   "cell_type": "code",
   "execution_count": null,
   "metadata": {},
   "outputs": [],
   "source": []
  }
 ],
 "metadata": {
  "kernelspec": {
   "display_name": "Python 3",
   "language": "python",
   "name": "python3"
  },
  "language_info": {
   "codemirror_mode": {
    "name": "ipython",
    "version": 3
   },
   "file_extension": ".py",
   "mimetype": "text/x-python",
   "name": "python",
   "nbconvert_exporter": "python",
   "pygments_lexer": "ipython3",
   "version": "3.7.6"
  }
 },
 "nbformat": 4,
 "nbformat_minor": 4
}
