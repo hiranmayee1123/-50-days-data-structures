{
 "cells": [
  {
   "cell_type": "markdown",
   "metadata": {},
   "source": [
    "# Check if reversing a sub array make the array sorted\n",
    "\n",
    "Given an array of distinct n integers. The task is to check whether reversing one sub-array make the array sorted or not. If the array is already sorted or by reversing a subarray once make it sorted, print “Yes”, else print “No”.\n",
    "\n",
    "Examples:\n",
    "\n",
    "Input : arr [] = {1, 2, 5, 4, 3}\n",
    "Output : Yes\n",
    "By reversing the subarray {5, 4, 3}, \n",
    "the array will be sorted.\n",
    "\n",
    "Input : arr [] = { 1, 2, 4, 5, 3 }\n",
    "Output : No"
   ]
  },
  {
   "cell_type": "code",
   "execution_count": 1,
   "metadata": {},
   "outputs": [
    {
     "name": "stdout",
     "output_type": "stream",
     "text": [
      "Yes\n"
     ]
    }
   ],
   "source": [
    "def checkReverse(arr, n): \n",
    "    temp = [0] * n \n",
    "    for i in range(n): \n",
    "        temp[i] = arr[i] \n",
    "   \n",
    "    temp.sort() \n",
    "   \n",
    "    for front in range(n): \n",
    "        if temp[front] != arr[front]: \n",
    "            break  \n",
    "    for back in range(n - 1, -1, -1): \n",
    "        if temp[back] != arr[back]: \n",
    "            break\n",
    "    if front >= back: \n",
    "        return True\n",
    "    while front != back: \n",
    "        front += 1\n",
    "        if arr[front - 1] < arr[front]: \n",
    "            return False\n",
    "    return True\n",
    "  \n",
    "arr = [1, 2, 5, 4, 3] \n",
    "n = len(arr) \n",
    "if checkReverse(arr, n) == True: \n",
    "    print(\"Yes\") \n",
    "else: \n",
    "    print(\"No\") \n",
    "  "
   ]
  },
  {
   "cell_type": "code",
   "execution_count": null,
   "metadata": {},
   "outputs": [],
   "source": []
  },
  {
   "cell_type": "code",
   "execution_count": null,
   "metadata": {},
   "outputs": [],
   "source": []
  }
 ],
 "metadata": {
  "kernelspec": {
   "display_name": "Python 3",
   "language": "python",
   "name": "python3"
  },
  "language_info": {
   "codemirror_mode": {
    "name": "ipython",
    "version": 3
   },
   "file_extension": ".py",
   "mimetype": "text/x-python",
   "name": "python",
   "nbconvert_exporter": "python",
   "pygments_lexer": "ipython3",
   "version": "3.7.6"
  }
 },
 "nbformat": 4,
 "nbformat_minor": 4
}
